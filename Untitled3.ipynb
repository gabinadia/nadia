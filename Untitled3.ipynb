{
 "cells": [
  {
   "cell_type": "code",
   "execution_count": 21,
   "id": "2f05a586",
   "metadata": {},
   "outputs": [],
   "source": [
    "from itertools import product\n",
    "import json"
   ]
  },
  {
   "cell_type": "code",
   "execution_count": 22,
   "id": "9e79dd34",
   "metadata": {},
   "outputs": [],
   "source": [
    "class PlanningDomain:\n",
    "\n",
    "    def __init__(self, actions=()):\n",
    "        self.actions = tuple(actions)\n",
    "\n",
    "    def generate_groundings(self, objects):\n",
    "        grounded_actions = list()\n",
    "        for action in self.actions:\n",
    "            parameters = [objects[type_] for type_ in action.types]\n",
    "            combinations = set()\n",
    "\n",
    "            for param_set in product(*parameters):\n",
    "                param_set_frozen = frozenset(param_set)\n",
    "\n",
    "                # Skip if unique and not all parameters are distinct\n",
    "                if action.unique and len(param_set_frozen) != len(param_set):\n",
    "                    continue\n",
    "\n",
    "                # Skip if same and parameters set is already used\n",
    "                if action.same and param_set_frozen in combinations:\n",
    "                    continue\n",
    "\n",
    "                combinations.add(param_set_frozen)\n",
    "                grounded_actions.append(action.generate_grounding(*param_set))\n",
    "\n",
    "        return grounded_actions"
   ]
  },
  {
   "cell_type": "code",
   "execution_count": 23,
   "id": "ca14f510",
   "metadata": {},
   "outputs": [],
   "source": [
    "def flatten_nested_list(nested_list):\n",
    "    flat_list = []\n",
    "    for item in nested_list:\n",
    "        if isinstance(item, list):\n",
    "            flat_list.extend(flatten_nested_list(item))\n",
    "        else:\n",
    "            flat_list.append(item)\n",
    "    return flat_list"
   ]
  },
  {
   "cell_type": "code",
   "execution_count": 24,
   "id": "19023e61",
   "metadata": {},
   "outputs": [],
   "source": [
    "def create_planning_domain(data):\n",
    "    actions = list()\n",
    "\n",
    "    for action, params in data[\"action\"].items():\n",
    "        parameters = list()\n",
    "        for type_, variable_list in params[\"parameters\"].items():\n",
    "            for variable in variable_list:\n",
    "                parameters.append((type_, variable))\n",
    "\n",
    "        preconditions = list()\n",
    "        for name, predicates in params[\"precondition\"].items():\n",
    "            preconditions.append(tuple(flatten_nested_list([name, predicates])))\n",
    "\n",
    "        effects = list()\n",
    "        for name, predicates in params[\"effect\"].items():\n",
    "            effects.append(tuple(flatten_nested_list([name, predicates])))\n",
    "\n",
    "        actions.append(PlanningAction(action, parameters, preconditions, effects))\n",
    "\n",
    "    return PlanningDomain(actions)"
   ]
  },
  {
   "cell_type": "code",
   "execution_count": 25,
   "id": "0b6389fa",
   "metadata": {},
   "outputs": [],
   "source": [
    "class PlanningTask:\n",
    "\n",
    "    def __init__(self, planning_domain, objects, initial_state=(), goal_state=()):\n",
    "        self.grounded_actions = planning_domain.generate_groundings(objects)\n",
    "\n",
    "        predicates = list(initial_state)\n",
    "        functions = dict()\n",
    "        self.initial_state = PlanningState(predicates, functions)\n",
    "\n",
    "        self.goal_state = list(goal_state)"
   ]
  },
  {
   "cell_type": "code",
   "execution_count": 26,
   "id": "f0ed1629",
   "metadata": {},
   "outputs": [],
   "source": [
    "def apply_grounding(arg_names, args):\n",
    "    name_arg_mapping = dict(zip(arg_names, args))\n",
    "\n",
    "    def substitute_predicate(predicate):\n",
    "        return predicate[0:1] + tuple(name_arg_mapping.get(arg, arg) for arg in predicate[1:])\n",
    "\n",
    "    return substitute_predicate"
   ]
  },
  {
   "cell_type": "code",
   "execution_count": 27,
   "id": "78e3376e",
   "metadata": {},
   "outputs": [],
   "source": [
    "\n",
    "\n",
    "    def __init__(self, action, *args):\n",
    "        self.name = action.name\n",
    "        ground = apply_grounding(action.arg_names, args)\n",
    "\n",
    "        self.written = ground((self.name,) + action.arg_names)\n",
    "\n",
    "        self.preconditions = [ground(pre) for pre in action.preconditions]\n",
    "        self.effects = [ground(effect) for effect in action.effects]\n",
    "\n",
    "    def __str__(self):\n",
    "        arg_list = ','.join(map(str, self.written[1:]))\n",
    "        return '%s(%s)' % (self.written[0], arg_list)"
   ]
  },
  {
   "cell_type": "code",
   "execution_count": 12,
   "id": "a60177ce",
   "metadata": {},
   "outputs": [],
   "source": [
    "def create_planning_problem(planning_domain, data):\n",
    "    objects = dict()\n",
    "\n",
    "    for type_, variables in data[\"objects\"].items():\n",
    "        objects[type_] = variables\n",
    "\n",
    "    initial_state = list()\n",
    "    for name, object_list in data[\"init\"].items():\n",
    "        for obj in object_list:\n",
    "            initial_state.append(tuple(flatten_nested_list([name, obj])))\n",
    "\n",
    "    goal_state = list()\n",
    "    for name, object_list in data[\"goal\"].items():\n",
    "        for obj in object_list:\n",
    "            goal_state.append(tuple(flatten_nested_list([name, obj])))\n",
    "\n",
    "    return PlanningTask(planning_domain, objects, initial_state, goal_state)"
   ]
  },
  {
   "cell_type": "code",
   "execution_count": 13,
   "id": "87629d87",
   "metadata": {},
   "outputs": [],
   "source": [
    "class PlanningState:\n",
    "\n",
    "    def __init__(self, predicates, functions, predecessor=None):\n",
    "        self.predicates = frozenset(predicates)\n",
    "        self.functions = tuple(functions.items())\n",
    "        self.f_dict = functions\n",
    "        self.predecessor = predecessor\n",
    "\n",
    "    def apply(self, action):\n",
    "        new_predicates = set(self.predicates)\n",
    "        new_predicates |= set(action.effects)\n",
    "        new_predicates -= set(action.preconditions)\n",
    "\n",
    "        new_functions = dict()\n",
    "        new_functions.update(self.functions)\n",
    "\n",
    "        return PlanningState(new_predicates, new_functions, (self, action))\n",
    "\n",
    "    def extract_plan(self):\n",
    "        plan = list()\n",
    "        current_state = self\n",
    "        while current_state.predecessor is not None:\n",
    "            plan.append(current_state.predecessor[1])\n",
    "            current_state = current_state.predecessor[0]\n",
    "\n",
    "        plan.reverse()\n",
    "        return plan\n",
    "\n",
    "    def __hash__(self):\n",
    "        return hash((self.predicates, self.functions))\n",
    "\n",
    "    def __eq__(self, other):\n",
    "        return ((self.predicates, self.functions) ==\n",
    "                (other.predicates, other.functions))\n",
    "\n",
    "    def __lt__(self, other):\n",
    "        return hash(self) < hash(other)"
   ]
  },
  {
   "cell_type": "code",
   "execution_count": 14,
   "id": "85fa7a86",
   "metadata": {},
   "outputs": [],
   "source": [
    "def null_heuristic():\n",
    "    return 0"
   ]
  },
  {
   "cell_type": "code",
   "execution_count": 47,
   "id": "223a8c33",
   "metadata": {},
   "outputs": [],
   "source": [
    "def is_goal_state_reached(state, goal_state):\n",
    "    return all(pred in state.predicates for pred in goal_state) "
   ]
  },
  {
   "cell_type": "code",
   "execution_count": null,
   "id": "a5291f0c",
   "metadata": {},
   "outputs": [],
   "source": []
  }
 ],
 "metadata": {
  "kernelspec": {
   "display_name": "Python 3 (ipykernel)",
   "language": "python",
   "name": "python3"
  },
  "language_info": {
   "codemirror_mode": {
    "name": "ipython",
    "version": 3
   },
   "file_extension": ".py",
   "mimetype": "text/x-python",
   "name": "python",
   "nbconvert_exporter": "python",
   "pygments_lexer": "ipython3",
   "version": "3.11.5"
  }
 },
 "nbformat": 4,
 "nbformat_minor": 5
}
