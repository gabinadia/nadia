{
 "cells": [
  {
   "cell_type": "code",
   "execution_count": 1,
   "id": "3e1a9718",
   "metadata": {},
   "outputs": [],
   "source": [
    "from itertools import product\n",
    "import json"
   ]
  },
  {
   "cell_type": "code",
   "execution_count": 2,
   "id": "9b10989a",
   "metadata": {},
   "outputs": [
    {
     "name": "stdout",
     "output_type": "stream",
     "text": [
      "{\n",
      "    \"ONTABLE\": [\n",
      "        \"C\",\n",
      "        \"A\",\n",
      "        \"B\",\n",
      "        \"D\"\n",
      "    ],\n",
      "    \"CLEAR\": [\n",
      "        \"C\",\n",
      "        \"A\",\n",
      "        \"B\",\n",
      "        \"D\"\n",
      "    ],\n",
      "    \"HANDEMPTY\": [],\n",
      "    \"GOAL\": [\n",
      "        [\n",
      "            \"D\",\n",
      "            \"C\"\n",
      "        ],\n",
      "        [\n",
      "            \"C\",\n",
      "            \"B\"\n",
      "        ],\n",
      "        [\n",
      "            \"B\",\n",
      "            \"A\"\n",
      "        ]\n",
      "    ]\n",
      "}\n"
     ]
    }
   ],
   "source": [
    "# Define predicates and objects\n",
    "predicates = {\n",
    "    \"ONTABLE\": [\"C\", \"A\", \"B\", \"D\"],\n",
    "    \"CLEAR\": [\"C\", \"A\", \"B\", \"D\"],\n",
    "    \"HANDEMPTY\": [],\n",
    "    \"GOAL\": [(\"D\", \"C\"), (\"C\", \"B\"), (\"B\", \"A\")]\n",
    "}\n",
    "\n",
    "# Convert predicates to JSON format\n",
    "predicates_json = json.dumps(predicates, indent=4)\n",
    "print(predicates_json)\n"
   ]
  },
  {
   "cell_type": "code",
   "execution_count": 3,
   "id": "78f21586",
   "metadata": {},
   "outputs": [
    {
     "data": {
      "text/plain": [
       "{'ONTABLE': ['C', 'A', 'B', 'D'],\n",
       " 'CLEAR': ['C', 'A', 'B', 'D'],\n",
       " 'HANDEMPTY': [],\n",
       " 'GOAL': [['D', 'C'], ['C', 'B'], ['B', 'A']]}"
      ]
     },
     "execution_count": 3,
     "metadata": {},
     "output_type": "execute_result"
    }
   ],
   "source": [
    "{\n",
    "    \"ONTABLE\": [\"C\", \"A\", \"B\", \"D\"],\n",
    "    \"CLEAR\": [\"C\", \"A\", \"B\", \"D\"],\n",
    "    \"HANDEMPTY\": [],\n",
    "    \"GOAL\": [\n",
    "        [\"D\", \"C\"],\n",
    "        [\"C\", \"B\"],\n",
    "        [\"B\", \"A\"]\n",
    "    ]\n",
    "}\n"
   ]
  },
  {
   "cell_type": "code",
   "execution_count": 4,
   "id": "5a321a2d",
   "metadata": {},
   "outputs": [
    {
     "name": "stdout",
     "output_type": "stream",
     "text": [
      "Action: pick-up\n",
      "Parameters: ['?x - block']\n",
      "Precondition: (and (clear ?x) (ontable ?x) (handempty))\n",
      "Effect: (and (not (ontable ?x)) (not (clear ?x)) (not (handempty)) (holding ?x))\n",
      "\n",
      "Action: put-down\n",
      "Parameters: ['?x - block']\n",
      "Precondition: (holding ?x)\n",
      "Effect: (and (not (holding ?x)) (clear ?x) (handempty) (ontable ?x))\n"
     ]
    }
   ],
   "source": [
    "class PlanningAction:\n",
    "    def __init__(self, name, parameters, precondition, effect):\n",
    "        self.name = name\n",
    "        self.parameters = parameters\n",
    "        self.precondition = precondition\n",
    "        self.effect = effect\n",
    "\n",
    "    def __str__(self):\n",
    "        return f\"Action: {self.name}\\nParameters: {self.parameters}\\nPrecondition: {self.precondition}\\nEffect: {self.effect}\"\n",
    "\n",
    "# Example usage:\n",
    "pick_up = PlanningAction(\n",
    "    name=\"pick-up\",\n",
    "    parameters=[\"?x - block\"],\n",
    "    precondition=\"(and (clear ?x) (ontable ?x) (handempty))\",\n",
    "    effect=\"(and (not (ontable ?x)) (not (clear ?x)) (not (handempty)) (holding ?x))\"\n",
    ")\n",
    "\n",
    "put_down = PlanningAction(\n",
    "    name=\"put-down\",\n",
    "    parameters=[\"?x - block\"],\n",
    "    precondition=\"(holding ?x)\",\n",
    "    effect=\"(and (not (holding ?x)) (clear ?x) (handempty) (ontable ?x))\"\n",
    ")\n",
    "\n",
    "# Testing the actions\n",
    "print(pick_up)\n",
    "print()\n",
    "print(put_down)\n"
   ]
  },
  {
   "cell_type": "code",
   "execution_count": 5,
   "id": "a43c4e69",
   "metadata": {},
   "outputs": [],
   "source": [
    "def flatten_nested_list(nested_list):\n",
    "    flattened = []\n",
    "    for item in nested_list:\n",
    "        if isinstance(item, list):\n",
    "            flattened.extend(flatten_nested_list(item))\n",
    "        else:\n",
    "            flattened.append(item)\n",
    "    return flattened\n"
   ]
  },
  {
   "cell_type": "code",
   "execution_count": 6,
   "id": "b25af4ba",
   "metadata": {},
   "outputs": [
    {
     "name": "stdout",
     "output_type": "stream",
     "text": [
      "[1, 2, 3, 4, 5, 6, 7, 8]\n"
     ]
    }
   ],
   "source": [
    "nested_list = [1, [2, 3, [4, 5]], 6, [7, 8]]\n",
    "result = flatten_nested_list(nested_list)\n",
    "print(result)\n"
   ]
  },
  {
   "cell_type": "code",
   "execution_count": 7,
   "id": "11a69fd0",
   "metadata": {},
   "outputs": [],
   "source": [
    "class PlanningAction:\n",
    "    def __init__(self, name, parameters, precondition, effect):\n",
    "        self.name = name\n",
    "        self.parameters = parameters\n",
    "        self.precondition = precondition\n",
    "        self.effect = effect\n",
    "\n",
    "def create_planning_domain(data):\n",
    "    actions = []\n",
    "    \n",
    "    # Assuming 'data' contains a list of action dictionaries\n",
    "    for action_data in data:\n",
    "        name = action_data.get('name')\n",
    "        parameters = action_data.get('parameters')\n",
    "        precondition = action_data.get('precondition')\n",
    "        effect = action_data.get('effect')\n",
    "        \n",
    "        # Create an instance of PlanningAction for each action in the data\n",
    "        action = PlanningAction(name, parameters, precondition, effect)\n",
    "        actions.append(action)\n",
    "    \n",
    "    return actions\n"
   ]
  },
  {
   "cell_type": "code",
   "execution_count": 8,
   "id": "0bcc4093",
   "metadata": {},
   "outputs": [
    {
     "name": "stdout",
     "output_type": "stream",
     "text": [
      "<__main__.PlanningAction object at 0x000001C0EAD32A90>\n"
     ]
    }
   ],
   "source": [
    "data = [\n",
    "    {\n",
    "        'name': 'pick-up',\n",
    "        'parameters': ['?x - block'],\n",
    "        'precondition': '(and (clear ?x) (ontable ?x) (handempty))',\n",
    "        'effect': '(and (not (ontable ?x)) (not (clear ?x)) (not (handempty)) (holding ?x))'\n",
    "    },\n",
    "    # Add more action data dictionaries as needed\n",
    "]\n",
    "\n",
    "domain_actions = create_planning_domain(data)\n",
    "for action in domain_actions:\n",
    "    print(action)\n"
   ]
  },
  {
   "cell_type": "code",
   "execution_count": 9,
   "id": "ff288738",
   "metadata": {},
   "outputs": [],
   "source": [
    "def apply_grounding(arg_names, args):\n",
    "    return dict(zip(arg_names, args))\n"
   ]
  },
  {
   "cell_type": "code",
   "execution_count": 10,
   "id": "1ca74188",
   "metadata": {},
   "outputs": [
    {
     "name": "stdout",
     "output_type": "stream",
     "text": [
      "{'?x': 'A', '?y': 'B', '?z': 'C'}\n"
     ]
    }
   ],
   "source": [
    "arg_names = ['?x', '?y', '?z']\n",
    "args = ['A', 'B', 'C']\n",
    "\n",
    "grounding = apply_grounding(arg_names, args)\n",
    "print(grounding)\n"
   ]
  }
 ],
 "metadata": {
  "kernelspec": {
   "display_name": "Python 3 (ipykernel)",
   "language": "python",
   "name": "python3"
  },
  "language_info": {
   "codemirror_mode": {
    "name": "ipython",
    "version": 3
   },
   "file_extension": ".py",
   "mimetype": "text/x-python",
   "name": "python",
   "nbconvert_exporter": "python",
   "pygments_lexer": "ipython3",
   "version": "3.11.5"
  }
 },
 "nbformat": 4,
 "nbformat_minor": 5
}
